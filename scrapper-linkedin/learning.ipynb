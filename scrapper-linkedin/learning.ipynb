{
 "cells": [
  {
   "cell_type": "code",
   "execution_count": 2,
   "metadata": {},
   "outputs": [],
   "source": [
    "from bs4 import BeautifulSoup as bs\n",
    "import requests"
   ]
  },
  {
   "cell_type": "code",
   "execution_count": 3,
   "metadata": {},
   "outputs": [],
   "source": [
    "response = requests.get(url='https://www.linkedin.com/learning/programming-foundations-object-oriented-design-3/learn-object-oriented-design-principles')"
   ]
  },
  {
   "cell_type": "code",
   "execution_count": 44,
   "metadata": {},
   "outputs": [
    {
     "data": {
      "text/plain": [
       "200"
      ]
     },
     "execution_count": 44,
     "metadata": {},
     "output_type": "execute_result"
    }
   ],
   "source": [
    "response.status_code"
   ]
  },
  {
   "cell_type": "code",
   "execution_count": 4,
   "metadata": {},
   "outputs": [],
   "source": [
    "content = bs(response.text, 'html.parser')"
   ]
  },
  {
   "cell_type": "code",
   "execution_count": 6,
   "metadata": {},
   "outputs": [],
   "source": [
    "links = content.find_all('a', 'toc__item__link')"
   ]
  },
  {
   "cell_type": "code",
   "execution_count": 7,
   "metadata": {},
   "outputs": [
    {
     "name": "stdout",
     "output_type": "stream",
     "text": [
      "49\n",
      "https://www.linkedin.com/learning/programming-foundations-object-oriented-design-3/learn-object-oriented-design-principles?autoplay=true&trk=course_tocItem\n",
      "https://www.linkedin.com/learning/programming-foundations-object-oriented-design-3/what-you-should-know?autoplay=true&trk=course_tocItem\n",
      "https://www.linkedin.com/learning/programming-foundations-object-oriented-design-3/object-oriented-thinking?autoplay=true&trk=course_tocItem\n",
      "https://www.linkedin.com/learning/programming-foundations-object-oriented-design-3/objects?autoplay=true&trk=course_tocItem\n",
      "https://www.linkedin.com/learning/programming-foundations-object-oriented-design-3/classes?autoplay=true&trk=course_tocItem\n",
      "https://www.linkedin.com/learning/programming-foundations-object-oriented-design-3/abstraction?autoplay=true&trk=course_tocItem\n",
      "https://www.linkedin.com/learning/programming-foundations-object-oriented-design-3/encapsulation?autoplay=true&trk=course_tocItem\n",
      "https://www.linkedin.com/learning/programming-foundations-object-oriented-design-3/inheritance?autoplay=true&trk=course_tocItem\n",
      "https://www.linkedin.com/learning/programming-foundations-object-oriented-design-3/polymorphism?autoplay=true&trk=course_tocItem\n",
      "https://www.linkedin.com/learning/programming-foundations-object-oriented-design-3/analysis-design-and-programming?autoplay=true&trk=course_tocItem\n",
      "https://www.linkedin.com/learning/programming-foundations-object-oriented-design-3/unified-modeling-language-uml?autoplay=true&trk=course_tocItem\n",
      "https://www.linkedin.com/learning/programming-foundations-object-oriented-design-3/defining-requirements?autoplay=true&trk=course_tocItem\n",
      "https://www.linkedin.com/learning/programming-foundations-object-oriented-design-3/furps-plus-requirements?autoplay=true&trk=course_tocItem\n",
      "https://www.linkedin.com/learning/programming-foundations-object-oriented-design-3/challenge-jukebox-requirements?autoplay=true&trk=course_tocItem\n",
      "https://www.linkedin.com/learning/programming-foundations-object-oriented-design-3/solution-jukebox-requirements?autoplay=true&trk=course_tocItem\n",
      "https://www.linkedin.com/learning/programming-foundations-object-oriented-design-3/use-cases?autoplay=true&trk=course_tocItem\n",
      "https://www.linkedin.com/learning/programming-foundations-object-oriented-design-3/identifying-the-actors?autoplay=true&trk=course_tocItem\n",
      "https://www.linkedin.com/learning/programming-foundations-object-oriented-design-3/identifying-the-scenarios?autoplay=true&trk=course_tocItem\n",
      "https://www.linkedin.com/learning/programming-foundations-object-oriented-design-3/diagramming-use-cases?autoplay=true&trk=course_tocItem\n",
      "https://www.linkedin.com/learning/programming-foundations-object-oriented-design-3/user-stories?autoplay=true&trk=course_tocItem\n",
      "https://www.linkedin.com/learning/programming-foundations-object-oriented-design-3/challenge-jukebox-use-cases?autoplay=true&trk=course_tocItem\n",
      "https://www.linkedin.com/learning/programming-foundations-object-oriented-design-3/solution-jukebox-use-cases?autoplay=true&trk=course_tocItem\n",
      "https://www.linkedin.com/learning/programming-foundations-object-oriented-design-3/identifying-the-objects?autoplay=true&trk=course_tocItem\n",
      "https://www.linkedin.com/learning/programming-foundations-object-oriented-design-3/identifying-class-relationships?autoplay=true&trk=course_tocItem\n",
      "https://www.linkedin.com/learning/programming-foundations-object-oriented-design-3/identifying-class-responsibilities?autoplay=true&trk=course_tocItem\n",
      "https://www.linkedin.com/learning/programming-foundations-object-oriented-design-3/crc-cards?autoplay=true&trk=course_tocItem\n",
      "https://www.linkedin.com/learning/programming-foundations-object-oriented-design-3/challenge-jukebox-conceptual-model?autoplay=true&trk=course_tocItem\n",
      "https://www.linkedin.com/learning/programming-foundations-object-oriented-design-3/solution-jukebox-conceptual-model?autoplay=true&trk=course_tocItem\n",
      "https://www.linkedin.com/learning/programming-foundations-object-oriented-design-3/creating-class-diagrams-attributes?autoplay=true&trk=course_tocItem\n",
      "https://www.linkedin.com/learning/programming-foundations-object-oriented-design-3/creating-class-diagrams-behaviors?autoplay=true&trk=course_tocItem\n",
      "https://www.linkedin.com/learning/programming-foundations-object-oriented-design-3/converting-class-diagrams-into-code?autoplay=true&trk=course_tocItem\n",
      "https://www.linkedin.com/learning/programming-foundations-object-oriented-design-3/instantiating-classes?autoplay=true&trk=course_tocItem\n",
      "https://www.linkedin.com/learning/programming-foundations-object-oriented-design-3/class-with-multiple-constructors?autoplay=true&trk=course_tocItem\n",
      "https://www.linkedin.com/learning/programming-foundations-object-oriented-design-3/static-attributes-and-methods?autoplay=true&trk=course_tocItem\n",
      "https://www.linkedin.com/learning/programming-foundations-object-oriented-design-3/challenge-jukebox-class-diagrams?autoplay=true&trk=course_tocItem\n",
      "https://www.linkedin.com/learning/programming-foundations-object-oriented-design-3/solution-jukebox-class-diagrams?autoplay=true&trk=course_tocItem\n",
      "https://www.linkedin.com/learning/programming-foundations-object-oriented-design-3/identifying-inheritance-situations?autoplay=true&trk=course_tocItem\n",
      "https://www.linkedin.com/learning/programming-foundations-object-oriented-design-3/using-inheritance?autoplay=true&trk=course_tocItem\n",
      "https://www.linkedin.com/learning/programming-foundations-object-oriented-design-3/abstract-and-concrete-classes?autoplay=true&trk=course_tocItem\n",
      "https://www.linkedin.com/learning/programming-foundations-object-oriented-design-3/interfaces?autoplay=true&trk=course_tocItem\n",
      "https://www.linkedin.com/learning/programming-foundations-object-oriented-design-3/aggregation?autoplay=true&trk=course_tocItem\n",
      "https://www.linkedin.com/learning/programming-foundations-object-oriented-design-3/composition?autoplay=true&trk=course_tocItem\n",
      "https://www.linkedin.com/learning/programming-foundations-object-oriented-design-3/challenge-jukebox-class-relationships?autoplay=true&trk=course_tocItem\n",
      "https://www.linkedin.com/learning/programming-foundations-object-oriented-design-3/solution-jukebox-class-relationships?autoplay=true&trk=course_tocItem\n",
      "https://www.linkedin.com/learning/programming-foundations-object-oriented-design-3/oop-support-in-different-languages?autoplay=true&trk=course_tocItem\n",
      "https://www.linkedin.com/learning/programming-foundations-object-oriented-design-3/general-development-principles?autoplay=true&trk=course_tocItem\n",
      "https://www.linkedin.com/learning/programming-foundations-object-oriented-design-3/software-testing?autoplay=true&trk=course_tocItem\n",
      "https://www.linkedin.com/learning/programming-foundations-object-oriented-design-3/design-patterns?autoplay=true&trk=course_tocItem\n",
      "https://www.linkedin.com/learning/programming-foundations-object-oriented-design-3/next-steps?autoplay=true&trk=course_tocItem\n"
     ]
    }
   ],
   "source": [
    "print(len(links))\n",
    "for link in links:\n",
    "    print(link.get('href'))"
   ]
  },
  {
   "cell_type": "code",
   "execution_count": 9,
   "metadata": {},
   "outputs": [
    {
     "data": {
      "text/plain": [
       "<a class=\"toc__item__link\" data-tracking-control-name=\"course_tocItem\" data-tracking-will-navigate=\"\" href=\"https://www.linkedin.com/learning/programming-foundations-object-oriented-design-3/classes?autoplay=true&amp;trk=course_tocItem\">\n",
       "<span class=\"toc__sublist__item__status\">\n",
       "<li-icon aria-hidden=\"true\" class=\"lazy-load\" data-delayed-url=\"https://static-exp1.licdn.com/sc/h/4ky30cle54onv1d7plh21tn0j\" type=\"lock-icon\"></li-icon>\n",
       "</span>\n",
       "<div class=\"toc__sublist__item__content\">\n",
       "<div class=\"toc__sublist__item__content__title\">Classes </div>\n",
       "<div class=\"toc__sublist__item__content__length\">\n",
       "\n",
       "\n",
       "\n",
       "\n",
       "\n",
       "\n",
       "\n",
       "\n",
       "\n",
       "\n",
       "\n",
       "  4m 38s\n",
       "</div>\n",
       "</div>\n",
       "</a>"
      ]
     },
     "execution_count": 9,
     "metadata": {},
     "output_type": "execute_result"
    }
   ],
   "source": [
    "links[4]"
   ]
  },
  {
   "cell_type": "code",
   "execution_count": 11,
   "metadata": {},
   "outputs": [
    {
     "name": "stdout",
     "output_type": "stream",
     "text": [
      "1\n",
      "[<video class=\"share-native-video__node video-js\" data-media-urn=\"urn:li:digitalmediaAsset:5002878\" data-poster-url=\"https://www.linkedin.com/media-proxy/ext?w=1200&amp;h=675&amp;hash=xOw%2BsmwXOh5KeJkdPH9cPfdZzS0%3D&amp;ora=1%2CaFBCTXdkRmpGL2lvQUFBPQ%2CxAVta5g-0R6plxVUzgUv5K_PrkC9q0RIUJDPBy-mWCSt-dCfZ3TofsTaZLSioloeeyUFlwI7f-yqRzLhEY69LcLmY4Yx3A\" data-sources='[{\"src\":\"https://files3.lynda.com/secure/courses/731735/VBR_MP4h264_main_SD/731735_00_01_WL30_welcome.mp4?KVGTev3VRSId8AwCx-59y2EPzRpdTU6vSKD7w_eKAju0_vTSB8-uWbESxe5djB7NSHSCH7zH4nVvCmPIKEf2PybAKQtDeAkC3t8ZsF9V-UyzXbAZI6iswWhdidTnkuAmOBRYEAO7LMVoUihl-hP0-O-Lw1qhDVaVLoM_2TVlVTobEMOWUWs\"}]' data-tracking-id=\"aQLFUUomQAKTMqEY3JcrKg==\">\n",
      "</video>]\n"
     ]
    }
   ],
   "source": [
    "link_response = requests.get(url='https://www.linkedin.com/learning/programming-foundations-object-oriented-design-3/identifying-the-actors')\n",
    "link_content = bs(response.text, 'html.parser')\n",
    "videos = link_content.find_all('video')\n",
    "print(len(videos))\n",
    "print(videos)"
   ]
  },
  {
   "cell_type": "code",
   "execution_count": 38,
   "metadata": {},
   "outputs": [
    {
     "data": {
      "text/plain": [
       "'https://www.linkedin.com/learning/programming-foundations-object-oriented-design-3/classes?autoplay=true&trk=course_tocItem'"
      ]
     },
     "execution_count": 38,
     "metadata": {},
     "output_type": "execute_result"
    }
   ],
   "source": [
    "links[4].get('href')"
   ]
  },
  {
   "cell_type": "code",
   "execution_count": 40,
   "metadata": {},
   "outputs": [],
   "source": [
    "link_response = requests.get(url='https://www.linkedin.com/learning/programming-foundations-object-oriented-design-3/classes?autoplay=true&trk=course_tocItem')"
   ]
  },
  {
   "cell_type": "code",
   "execution_count": 41,
   "metadata": {},
   "outputs": [],
   "source": [
    "link_content = bs(response.text, 'html.parser')"
   ]
  },
  {
   "cell_type": "code",
   "execution_count": null,
   "metadata": {},
   "outputs": [],
   "source": []
  },
  {
   "cell_type": "code",
   "execution_count": null,
   "metadata": {},
   "outputs": [],
   "source": []
  }
 ],
 "metadata": {
  "kernelspec": {
   "display_name": "Python 3",
   "language": "python",
   "name": "python3"
  },
  "language_info": {
   "codemirror_mode": {
    "name": "ipython",
    "version": 3
   },
   "file_extension": ".py",
   "mimetype": "text/x-python",
   "name": "python",
   "nbconvert_exporter": "python",
   "pygments_lexer": "ipython3",
   "version": "3.7.4"
  }
 },
 "nbformat": 4,
 "nbformat_minor": 2
}
